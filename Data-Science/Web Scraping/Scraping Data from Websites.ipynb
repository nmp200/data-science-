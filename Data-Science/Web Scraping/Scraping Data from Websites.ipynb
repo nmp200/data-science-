{
 "cells": [
  {
   "cell_type": "markdown",
   "metadata": {},
   "source": [
    "### Author : Sanjoy Biswas\n",
    "### Topic : Web Scraping with Python Using BeautifulSoup \n",
    "### Email : sanjoy.eee32@gmail.com"
   ]
  },
  {
   "cell_type": "markdown",
   "metadata": {},
   "source": [
    "#### How Does Web Scraping Work?"
   ]
  },
  {
   "cell_type": "markdown",
   "metadata": {},
   "source": [
    "When we scrape the web, we write code that sends a request to the server that’s hosting the page we specified. Generally, our code downloads that page’s source code, just as a browser would. But instead of displaying the page visually, it filters through the page looking for HTML elements we’ve specified, and extracting whatever content we’ve instructed it to extract.\n",
    "\n",
    "For example, if we wanted to get all of the titles inside H2 tags from a website, we could write some code to do that. Our code would request the site’s content from its server and download it. Then it would go through the page’s HTML looking for the H2 tags. Whenever it found an H2 tag, it would copy whatever text is inside the tag, and output it in whatever format we specified."
   ]
  },
  {
   "cell_type": "markdown",
   "metadata": {},
   "source": [
    "#### The Components of a Web Page"
   ]
  },
  {
   "cell_type": "markdown",
   "metadata": {},
   "source": [
    "HTML — contain the main content of the page.\n",
    "\n",
    "CSS — add styling to make the page look nicer.\n",
    "\n",
    "JS — Javascript files add interactivity to web pages.\n",
    "\n",
    "Images — image formats, such as JPG and PNG allow web pages to show pictures."
   ]
  },
  {
   "cell_type": "markdown",
   "metadata": {},
   "source": [
    "#### Import Libraries"
   ]
  },
  {
   "cell_type": "code",
   "execution_count": 2,
   "metadata": {},
   "outputs": [],
   "source": [
    "import numpy as np\n",
    "import pandas as pd\n",
    "from requests import get"
   ]
  },
  {
   "cell_type": "code",
   "execution_count": 87,
   "metadata": {},
   "outputs": [],
   "source": [
    "import bs4 as bs\n",
    "import urllib.request"
   ]
  },
  {
   "cell_type": "markdown",
   "metadata": {},
   "source": [
    "#### Add URL From Which Data Scrap"
   ]
  },
  {
   "cell_type": "code",
   "execution_count": 88,
   "metadata": {
    "collapsed": true
   },
   "outputs": [],
   "source": [
    "src = urllib.request.urlopen('https://www.nytimes.com/').read()"
   ]
  },
  {
   "cell_type": "code",
   "execution_count": 89,
   "metadata": {
    "collapsed": true
   },
   "outputs": [],
   "source": [
    "bsoup = bs.BeautifulSoup(src, 'lxml')"
   ]
  },
  {
   "cell_type": "code",
   "execution_count": 1,
   "metadata": {},
   "outputs": [],
   "source": [
    "#print(bsoup)"
   ]
  },
  {
   "cell_type": "code",
   "execution_count": 92,
   "metadata": {},
   "outputs": [
    {
     "name": "stdout",
     "output_type": "stream",
     "text": [
      "The New York Times - Breaking News, World News & Multimedia\n"
     ]
    }
   ],
   "source": [
    "### .text shows only text from the particular class\n",
    "print(bsoup.title.text)"
   ]
  },
  {
   "cell_type": "code",
   "execution_count": 93,
   "metadata": {},
   "outputs": [
    {
     "name": "stdout",
     "output_type": "stream",
     "text": [
      "#site-content\n",
      "#site-index\n",
      "/\n",
      "/\n",
      "https://www.nytimes.com/es/\n",
      "https://cn.nytimes.com\n",
      "https://www.nytimes.com/subscription/multiproduct/lp8HYKU.html?campaignId=6W74R\n",
      "https://myaccount.nytimes.com/auth/login?response_type=cookie&client_id=vi\n",
      "https://myaccount.nytimes.com/auth/login?response_type=cookie&client_id=vi\n",
      "https://www.nytimes.com/section/todayspaper\n",
      "/\n",
      "/\n",
      "https://www.nytimes.com/pages/world/index.html\n",
      "https://www.nytimes.com/pages/national/index.html\n",
      "https://www.nytimes.com/pages/politics/index.html\n",
      "https://www.nytimes.com/pages/nyregion/index.html\n",
      "https://www.nytimes.com/pages/business/index.html\n",
      "https://www.nytimes.com/pages/opinion/index.html\n",
      "https://www.nytimes.com/pages/technology/index.html\n",
      "https://www.nytimes.com/section/science\n",
      "https://www.nytimes.com/pages/health/index.html\n",
      "https://www.nytimes.com/pages/sports/index.html\n",
      "https://www.nytimes.com/pages/arts/index.html\n",
      "https://www.nytimes.com/section/books\n",
      "https://www.nytimes.com/section/style\n",
      "https://www.nytimes.com/pages/dining/index.html\n",
      "https://www.nytimes.com/section/travel\n",
      "https://www.nytimes.com/pages/magazine/index.html\n",
      "https://www.nytimes.com/section/t-magazine\n",
      "https://www.nytimes.com/section/realestate\n",
      "https://www.nytimes.com/video\n",
      "https://www.nytimes.com/pages/world/index.html\n",
      "https://www.nytimes.com/pages/national/index.html\n",
      "https://www.nytimes.com/pages/politics/index.html\n",
      "https://www.nytimes.com/pages/nyregion/index.html\n",
      "https://www.nytimes.com/pages/business/index.html\n",
      "https://www.nytimes.com/pages/opinion/index.html\n",
      "https://www.nytimes.com/pages/technology/index.html\n",
      "https://www.nytimes.com/section/science\n",
      "https://www.nytimes.com/pages/health/index.html\n",
      "https://www.nytimes.com/pages/sports/index.html\n",
      "https://www.nytimes.com/pages/arts/index.html\n",
      "https://www.nytimes.com/section/books\n",
      "https://www.nytimes.com/section/style\n",
      "https://www.nytimes.com/pages/dining/index.html\n",
      "https://www.nytimes.com/section/travel\n",
      "https://www.nytimes.com/pages/magazine/index.html\n",
      "https://www.nytimes.com/section/t-magazine\n",
      "https://www.nytimes.com/section/realestate\n",
      "https://www.nytimes.com/video\n",
      "/2019/04/19/briefing/mueller-report-notre-dame-royal-baby.html\n",
      "/2019/04/19/briefing/mueller-report-notre-dame-royal-baby.html\n",
      "/2019/04/19/podcasts/the-daily/robert-mueller-report-special-counsel-investigation.html\n",
      "/2019/04/19/podcasts/the-daily/robert-mueller-report-special-counsel-investigation.html\n",
      "/2019/04/18/us/mexico-border-deaths.html\n",
      "/2019/04/18/us/mexico-border-deaths.html\n",
      "/2019/04/19/us/politics/mueller-report-democrats-republicans.html\n",
      "/2019/04/19/us/politics/sarah-sanders-mueller-report.html\n",
      "/2019/04/19/us/the-mueller-report-voters-reactions.html\n",
      "/2019/04/19/us/the-mueller-report-voters-reactions.html\n",
      "/2019/04/19/us/the-mueller-report-voters-reactions.html#commentsContainer\n",
      "/2019/04/19/us/the-mueller-report-voters-reactions.html\n",
      "/2019/04/19/us/politics/justice-department-trump-attack-mueller.html\n",
      "/2019/04/19/us/politics/justice-department-trump-attack-mueller.html\n",
      "/2019/04/19/us/politics/steele-dossier-mueller-report.html\n",
      "/2019/04/19/world/europe/notre-dame-fire-safety.html\n",
      "/2019/04/19/world/europe/notre-dame-fire-safety.html\n",
      "/2019/04/19/us/politics/buttigieg-black-police-chief-fired.html\n",
      "/2019/04/19/us/politics/buttigieg-black-police-chief-fired.html\n",
      "/2019/04/19/us/politics/buttigieg-black-police-chief-fired.html#commentsContainer\n",
      "/2019/04/19/nyregion/cuomo-andy-byford-mta.html\n",
      "/2019/04/19/nyregion/cuomo-andy-byford-mta.html\n",
      "/2019/04/19/nyregion/cuomo-andy-byford-mta.html#commentsContainer\n",
      "/2019/04/19/business/meghan-markle-royal-baby-betting.html\n",
      "/2019/04/19/business/meghan-markle-royal-baby-betting.html\n",
      "https://www.nytimes.com/section/opinion?pagetype=Homepage&action=click&module=Opinion\n",
      "/2019/04/19/opinion/mueller-report-trump-russia.html\n",
      "/2019/04/19/opinion/mueller-report-trump-russia.html\n",
      "/2019/04/19/opinion/mueller-report-trump-barr-impeachment.html\n",
      "/2019/04/19/opinion/mueller-report-trump-barr-impeachment.html#commentsContainer\n",
      "/2019/04/19/opinion/mueller-report-donald-trump-2020.html\n",
      "/2019/04/19/opinion/mueller-report-barr-trump-russian-disinformation.html\n",
      "/2019/04/19/opinion/mueller-trump-russia-report.html\n",
      "/2019/04/18/opinion/barr-media-trump.html\n",
      "/2019/04/19/opinion/mueller-report-trump-don-mcgahn.html\n",
      "/2019/04/19/opinion/mueller-report-trump-counterintelligence.html\n",
      "/2019/04/18/opinion/mueller-report-corruption.html\n",
      "/2019/04/18/opinion/bernie-sanders-tax.html\n",
      "/2019/04/19/opinion/god-good-friday.html\n",
      "/2019/04/18/well/mind/can-botox-and-cosmetic-surgery-chill-our-relationships-with-others.html\n",
      "/2019/04/18/well/mind/can-botox-and-cosmetic-surgery-chill-our-relationships-with-others.html\n",
      "/2019/04/18/well/mind/can-botox-and-cosmetic-surgery-chill-our-relationships-with-others.html\n",
      "/2019/04/18/books/review/absent-hand-suzannah-lessard.html\n",
      "/2019/04/18/books/review/absent-hand-suzannah-lessard.html\n",
      "/2019/04/19/business/pregnancy-work.html\n",
      "/2019/04/19/business/pregnancy-work.html\n",
      "http://nyt.qualtrics.com/jfe/form/SV_eFJmKj9v0krSE0l\n",
      "/\n",
      "https://www.nytimes.com\n",
      "https://www.nytimes.com/section/world\n",
      "https://www.nytimes.com/section/us\n",
      "https://www.nytimes.com/section/politics\n",
      "https://www.nytimes.com/section/nyregion\n",
      "https://www.nytimes.com/section/business\n",
      "https://www.nytimes.com/section/technology\n",
      "https://www.nytimes.com/section/science\n",
      "https://www.nytimes.com/section/climate\n",
      "https://www.nytimes.com/section/sports\n",
      "https://www.nytimes.com/section/obituaries\n",
      "https://www.nytimes.com/section/upshot\n",
      "https://www.nytimes.com/section/todayspaper\n",
      "https://www.nytimes.com/section/corrections\n",
      "https://www.nytimes.com/section/opinion\n",
      "https://www.nytimes.com/section/opinion/columnists\n",
      "https://www.nytimes.com/section/opinion/editorials\n",
      "https://www.nytimes.com/section/opinion/contributors\n",
      "https://www.nytimes.com/section/opinion/letters\n",
      "https://www.nytimes.com/section/opinion/sunday\n",
      "https://www.nytimes.com/video/opinion\n",
      "https://www.nytimes.com/section/arts\n",
      "https://www.nytimes.com/section/arts/design\n",
      "https://www.nytimes.com/section/books\n",
      "https://www.nytimes.com/section/arts/dance\n",
      "https://www.nytimes.com/section/movies\n",
      "https://www.nytimes.com/section/arts/music\n",
      "https://www.nytimes.com/spotlight/pop-culture\n",
      "https://www.nytimes.com/section/arts/television\n",
      "https://www.nytimes.com/section/theater\n",
      "https://www.nytimes.com/watching\n",
      "https://www.nytimes.com/video/arts\n",
      "https://www.nytimes.com/section/automobiles\n",
      "https://www.nytimes.com/crosswords\n",
      "https://www.nytimes.com/section/food\n",
      "https://cooking.nytimes.com/\n",
      "https://www.nytimes.com/section/education\n",
      "https://www.nytimes.com/section/style\n",
      "https://www.nytimes.com/section/health\n",
      "https://www.nytimes.com/section/jobs\n",
      "https://www.nytimes.com/section/magazine\n",
      "https://www.nytimes.com/section/realestate\n",
      "https://www.nytimes.com/section/t-magazine\n",
      "https://www.nytimes.com/section/travel\n",
      "https://www.nytimes.com/section/fashion/weddings\n",
      "https://www.nytimes.com/section/reader-center\n",
      "https://thewirecutter.com\n",
      "http://nytconferences.com/\n",
      "https://www.nytimes.com/section/learning\n",
      "http://www.nytimes.com/marketing/tools-and-services\n",
      "https://www.nytimes.com/events\n",
      "https://www.nytimes.com/section/multimedia\n",
      "https://www.nytimes.com/section/lens\n",
      "https://www.nytimes.com/video\n",
      "https://www.nytimes.com/newsletters\n",
      "https://www.nytimes.com/store\n",
      "https://www.nytimes.com/times-journeys\n",
      "https://myaccount.nytimes.com/membercenter/myaccount.html\n",
      "https://www.nytimes.com\n",
      "https://www.nytimes.com/section/world\n",
      "https://www.nytimes.com/section/us\n",
      "https://www.nytimes.com/section/politics\n",
      "https://www.nytimes.com/section/nyregion\n",
      "https://www.nytimes.com/section/business\n",
      "https://www.nytimes.com/section/technology\n",
      "https://www.nytimes.com/section/science\n",
      "https://www.nytimes.com/section/climate\n",
      "https://www.nytimes.com/section/sports\n",
      "https://www.nytimes.com/section/obituaries\n",
      "https://www.nytimes.com/section/upshot\n",
      "https://www.nytimes.com/section/todayspaper\n",
      "https://www.nytimes.com/section/corrections\n",
      "https://www.nytimes.com/section/opinion\n",
      "https://www.nytimes.com/section/opinion/columnists\n",
      "https://www.nytimes.com/section/opinion/editorials\n",
      "https://www.nytimes.com/section/opinion/contributors\n",
      "https://www.nytimes.com/section/opinion/letters\n",
      "https://www.nytimes.com/section/opinion/sunday\n",
      "https://www.nytimes.com/video/opinion\n",
      "https://www.nytimes.com/section/arts\n",
      "https://www.nytimes.com/section/arts/design\n",
      "https://www.nytimes.com/section/books\n",
      "https://www.nytimes.com/section/arts/dance\n",
      "https://www.nytimes.com/section/movies\n",
      "https://www.nytimes.com/section/arts/music\n",
      "https://www.nytimes.com/spotlight/pop-culture\n",
      "https://www.nytimes.com/section/arts/television\n",
      "https://www.nytimes.com/section/theater\n",
      "https://www.nytimes.com/watching\n",
      "https://www.nytimes.com/video/arts\n",
      "https://www.nytimes.com/section/automobiles\n",
      "https://www.nytimes.com/crosswords\n",
      "https://www.nytimes.com/section/food\n",
      "https://cooking.nytimes.com/\n",
      "https://www.nytimes.com/section/education\n",
      "https://www.nytimes.com/section/style\n",
      "https://www.nytimes.com/section/health\n",
      "https://www.nytimes.com/section/jobs\n",
      "https://www.nytimes.com/section/magazine\n",
      "https://www.nytimes.com/section/realestate\n",
      "https://www.nytimes.com/section/t-magazine\n",
      "https://www.nytimes.com/section/travel\n",
      "https://www.nytimes.com/section/fashion/weddings\n",
      "https://www.nytimes.com/section/reader-center\n",
      "https://thewirecutter.com\n",
      "http://nytconferences.com/\n",
      "https://www.nytimes.com/section/learning\n",
      "http://www.nytimes.com/marketing/tools-and-services\n",
      "https://www.nytimes.com/events\n",
      "https://www.nytimes.com/section/multimedia\n",
      "https://www.nytimes.com/section/lens\n",
      "https://www.nytimes.com/video\n",
      "https://www.nytimes.com/newsletters\n",
      "https://www.nytimes.com/store\n",
      "https://www.nytimes.com/times-journeys\n",
      "https://myaccount.nytimes.com/membercenter/myaccount.html\n",
      "https://www.nytimes.com/hdleftnav\n",
      "https://www.nytimes.com/digitalleftnav\n",
      "https://www.nytimes.com/subscription/games/lp897H9.html\n",
      "https://www.nytimes.com/subscriptions/Multiproduct/lp8R3WU.html\n",
      "https://www.nytimes.com/marketing/newsletters\n",
      "https://www.nytimes.com/corporateleftnav\n",
      "https://www.nytimes.com/educationleftnav\n",
      "https://www.nytimes.com/services/mobile/index.html\n",
      "http://eedition.nytimes.com/cgi-bin/signup.cgi?cc=37FYY\n",
      "https://www.nytimes.com/content/help/rights/copyright/copyright-notice.html\n",
      "https://myaccount.nytimes.com/membercenter/feedback.html\n",
      "http://www.nytco.com/careers\n",
      "http://nytmediakit.com/\n",
      "https://www.nytimes.com/content/help/rights/privacy/policy/privacy-policy.html#pp\n",
      "https://www.nytimes.com/privacy\n",
      "https://www.nytimes.com/ref/membercenter/help/agree.html\n",
      "https://www.nytimes.com/content/help/rights/sale/terms-of-sale.html\n",
      "http://spiderbites.nytimes.com\n",
      "https://mobile.nytimes.com/help\n",
      "https://www.nytimes.com/membercenter/sitehelp.html\n",
      "https://www.nytimes.com/subscription/multiproduct/lp8HYKU?campaignId=37WXW\n"
     ]
    }
   ],
   "source": [
    "for link in bsoup.find_all('a'):\n",
    "    print(link.get('href'))"
   ]
  },
  {
   "cell_type": "code",
   "execution_count": 94,
   "metadata": {},
   "outputs": [
    {
     "name": "stdout",
     "output_type": "stream",
     "text": [
      "<p class=\"css-gs67ux e1n8kpyg0\">Here’s what you need to know at the end of the day.</p>\n"
     ]
    }
   ],
   "source": [
    "print(bsoup.p)"
   ]
  },
  {
   "cell_type": "markdown",
   "metadata": {},
   "source": [
    "#### Find All data in Particular Class"
   ]
  },
  {
   "cell_type": "code",
   "execution_count": 95,
   "metadata": {},
   "outputs": [
    {
     "name": "stdout",
     "output_type": "stream",
     "text": [
      "[<p class=\"css-gs67ux e1n8kpyg0\">Here’s what you need to know at the end of the day.</p>, <p class=\"css-gs67ux e1n8kpyg0\">The Mueller report is released.</p>, <p class=\"css-gs67ux e1n8kpyg0\">A trip to deep in South Texas brush country, where the terrain is deadly.</p>, <p class=\"css-1pfq5u e1n8kpyg0\">Sarah Huckabee Sanders, the White House press secretary, is seemingly unfazed by blows to her credibility.</p>, <p class=\"css-1pfq5u e1n8kpyg0\">The findings revealed that some claims in the dossier appeared to be false while others were impossible to prove.</p>, <p class=\"css-1pfq5u e1n8kpyg0\">When that woman is Meghan Markle, and the baby is a Royal Baby, it’s “generally seen as harmless fun.”</p>, <p class=\"css-1pfq5u e1n8kpyg0\">The Mueller report is a good reminder of how important it is to prevent foreign interference in American elections.</p>, <p class=\"css-1pfq5u e1n8kpyg0\">Mueller laid out the evidence for members of Congress to take action against President Trump. Will they?</p>, <p class=\"css-1pfq5u e1n8kpyg0\">Experts say mirroring another person’s facial expressions is essential for recognizing emotion, and also for feeling it.</p>, <p class=\"css-1pfq5u e1n8kpyg0\">In “The Absent Hand,” the writer Suzannah Lessard dissects a diverse swath of America, looking to understand the green expanses and urban sprawl that surround us.</p>, <p class=\"css-1pfq5u e1n8kpyg0\">In the latest Work Friend, our columnist offers advice for women in the workplace who are getting less than they deserve.</p>, <p class=\"css-1qo9wc0\">We’d like your thoughts on the New York Times home page experience.<a href=\"http://nyt.qualtrics.com/jfe/form/SV_eFJmKj9v0krSE0l\" rel=\"noopener noreferrer\" target=\"_blank\">Let us know what you think</a> <svg height=\"11\" viewbox=\"0 0 7 12\" width=\"7\"><path d=\"M1 1l4.333 5L1 11\" fill=\"none\" fill-rule=\"evenodd\" stroke=\"#fff\" stroke-width=\"2\"></path></svg></p>]\n"
     ]
    }
   ],
   "source": [
    "print(bsoup.find_all('p'))"
   ]
  },
  {
   "cell_type": "code",
   "execution_count": 98,
   "metadata": {},
   "outputs": [
    {
     "name": "stdout",
     "output_type": "stream",
     "text": [
      "Here’s what you need to know at the end of the day.\n"
     ]
    }
   ],
   "source": [
    "print(bsoup.find('p').get_text())"
   ]
  },
  {
   "cell_type": "code",
   "execution_count": 99,
   "metadata": {},
   "outputs": [
    {
     "name": "stdout",
     "output_type": "stream",
     "text": [
      "Here’s what you need to know at the end of the day.\n",
      "The Mueller report is released.\n",
      "A trip to deep in South Texas brush country, where the terrain is deadly.\n",
      "Sarah Huckabee Sanders, the White House press secretary, is seemingly unfazed by blows to her credibility.\n",
      "The findings revealed that some claims in the dossier appeared to be false while others were impossible to prove.\n",
      "When that woman is Meghan Markle, and the baby is a Royal Baby, it’s “generally seen as harmless fun.”\n",
      "The Mueller report is a good reminder of how important it is to prevent foreign interference in American elections.\n",
      "Mueller laid out the evidence for members of Congress to take action against President Trump. Will they?\n",
      "Experts say mirroring another person’s facial expressions is essential for recognizing emotion, and also for feeling it.\n",
      "In “The Absent Hand,” the writer Suzannah Lessard dissects a diverse swath of America, looking to understand the green expanses and urban sprawl that surround us.\n",
      "In the latest Work Friend, our columnist offers advice for women in the workplace who are getting less than they deserve.\n",
      "We’d like your thoughts on the New York Times home page experience.Let us know what you think \n"
     ]
    }
   ],
   "source": [
    "ptags = bsoup.find_all('p')\n",
    "for p in ptags:\n",
    "    print(p.text)"
   ]
  },
  {
   "cell_type": "code",
   "execution_count": 100,
   "metadata": {
    "collapsed": true
   },
   "outputs": [],
   "source": [
    "src = urllib.request.urlopen('http://www.espn.com/nba/statistics/player/_/stat/assists/sort/avgAssists/').read()\n",
    "bsoup = bs.BeautifulSoup(src, 'lxml')\n",
    "tbl = bsoup.find('table')"
   ]
  },
  {
   "cell_type": "code",
   "execution_count": 101,
   "metadata": {},
   "outputs": [
    {
     "name": "stdout",
     "output_type": "stream",
     "text": [
      "['RK', 'PLAYER', 'TEAM', 'GP', 'MPG', 'AST', 'APG', 'TO', 'TOPG', 'AP48M', 'AST/TO']\n",
      "['1', 'Russell Westbrook, PG', 'OKC', '2', '37.5', '21', '10.5', '10', '5.0', '13.4', '2.10']\n",
      "['2', 'James Harden, PG', 'HOU', '2', '33.0', '20', '10.0', '11', '5.5', '14.5', '1.82']\n",
      "['3', 'Nikola Jokic, C', 'DEN', '3', '36.0', '29', '9.7', '7', '2.3', '12.9', '4.14']\n",
      "['4', 'Lou Williams, SG', 'LAC', '3', '28.3', '26', '8.7', '9', '3.0', '14.7', '2.89']\n",
      "['\\xa0', 'Draymond Green, PF', 'GS', '3', '34.0', '26', '8.7', '10', '3.3', '12.2', '2.60']\n",
      "['6', 'Ben Simmons, PG', 'PHI', '3', '33.3', '24', '8.0', '9', '3.0', '11.5', '2.67']\n",
      "['7', 'Kyle Lowry, PG', 'TOR', '2', '35.5', '15', '7.5', '4', '2.0', '10.1', '3.75']\n",
      "['\\xa0', 'Ricky Rubio, PG', 'UTAH', '2', '31.5', '15', '7.5', '4', '2.0', '11.4', '3.75']\n",
      "['9', 'Kyrie Irving, PG', 'BOS', '2', '36.5', '14', '7.0', '5', '2.5', '9.2', '2.80']\n",
      "['10', 'Reggie Jackson, PG', 'DET', '2', '23.5', '13', '6.5', '2', '1.0', '13.3', '6.50']\n",
      "['RK', 'PLAYER', 'TEAM', 'GP', 'MPG', 'AST', 'APG', 'TO', 'TOPG', 'AP48M', 'AST/TO']\n",
      "['11', 'Monte Morris, PG', 'DEN', '3', '23.7', '18', '6.0', '1', '0.3', '12.2', '18.00']\n",
      "['\\xa0', 'Khris Middleton, SF', 'MIL', '2', '29.0', '12', '6.0', '2', '1.0', '9.9', '6.00']\n",
      "['13', 'Eric Bledsoe, PG', 'MIL', '2', '26.5', '11', '5.5', '1', '0.5', '10.0', '11.00']\n",
      "['\\xa0', 'Ish Smith, PG', 'DET', '2', '22.0', '11', '5.5', '3', '1.5', '12.0', '3.67']\n",
      "['15', 'Kevin Durant, SF', 'GS', '3', '32.0', '15', '5.0', '17', '5.7', '7.5', '0.88']\n",
      "['\\xa0', 'Chris Paul, PG', 'HOU', '2', '30.0', '10', '5.0', '10', '5.0', '8.0', '1.00']\n",
      "['\\xa0', 'D.J. Augustin, PG', 'ORL', '2', '26.5', '10', '5.0', '2', '1.0', '9.1', '5.00']\n",
      "['\\xa0', 'Damian Lillard, PG', 'POR', '2', '37.5', '10', '5.0', '8', '4.0', '6.4', '1.25']\n",
      "['19', 'Andre Iguodala, SG', 'GS', '3', '24.3', '14', '4.7', '2', '0.7', '9.2', '7.00']\n",
      "['\\xa0', 'Stephen Curry, PG', 'GS', '3', '30.3', '14', '4.7', '10', '3.3', '7.4', '1.40']\n",
      "['RK', 'PLAYER', 'TEAM', 'GP', 'MPG', 'AST', 'APG', 'TO', 'TOPG', 'AP48M', 'AST/TO']\n",
      "['\\xa0', 'Jimmy Butler, SG', 'PHI', '3', '35.3', '14', '4.7', '3', '1.0', '6.3', '4.67']\n",
      "['22', 'Marc Gasol, C', 'TOR', '2', '27.0', '9', '4.5', '0', '0.0', '8.0', '0.00']\n",
      "['\\xa0', 'Al Horford, C', 'BOS', '2', '35.0', '9', '4.5', '6', '3.0', '6.2', '1.50']\n",
      "['\\xa0', 'Thaddeus Young, PF', 'IND', '2', '29.5', '9', '4.5', '2', '1.0', '7.3', '4.50']\n",
      "['25', 'DeMar DeRozan, SG', 'SA', '3', '36.7', '13', '4.3', '5', '1.7', '5.7', '2.60']\n",
      "['26', 'Patrick Beverley, PG', 'LAC', '3', '27.0', '12', '4.0', '5', '1.7', '7.1', '2.40']\n",
      "['\\xa0', 'Darren Collison, PG', 'IND', '2', '29.0', '8', '4.0', '6', '3.0', '6.6', '1.33']\n",
      "['\\xa0', 'CJ McCollum, SG', 'POR', '2', '36.5', '8', '4.0', '6', '3.0', '5.3', '1.33']\n",
      "['\\xa0', 'Giannis Antetokounmpo, PF', 'MIL', '2', '26.5', '8', '4.0', '6', '3.0', '7.2', '1.33']\n",
      "['\\xa0', 'Sterling Brown, SG', 'MIL', '2', '25.5', '8', '4.0', '2', '1.0', '7.5', '4.00']\n",
      "['RK', 'PLAYER', 'TEAM', 'GP', 'MPG', 'AST', 'APG', 'TO', 'TOPG', 'AP48M', 'AST/TO']\n",
      "['\\xa0', 'Terry Rozier, PG', 'BOS', '2', '19.5', '8', '4.0', '3', '1.5', '9.8', '2.67']\n",
      "['\\xa0', 'Domantas Sabonis, PF', 'IND', '2', '25.0', '8', '4.0', '2', '1.0', '7.7', '4.00']\n",
      "['33', 'Tobias Harris, SF', 'PHI', '3', '35.3', '11', '3.7', '3', '1.0', '5.0', '3.67']\n",
      "['34', 'George Hill, PG', 'MIL', '2', '24.5', '7', '3.5', '1', '0.5', '6.9', '7.00']\n",
      "['\\xa0', 'Kawhi Leonard, SF', 'TOR', '2', '33.0', '7', '3.5', '5', '2.5', '5.1', '1.40']\n",
      "['\\xa0', 'Joe Ingles, SF', 'UTAH', '2', '32.0', '7', '3.5', '3', '1.5', '5.3', '2.33']\n",
      "['37', 'Danilo Gallinari, SF', 'LAC', '3', '30.3', '10', '3.3', '8', '2.7', '5.3', '1.25']\n",
      "['\\xa0', 'Derrick White, PG', 'SA', '3', '31.0', '10', '3.3', '8', '2.7', '5.2', '1.25']\n",
      "['39', 'LaMarcus Aldridge, C', 'SA', '3', '35.0', '9', '3.0', '3', '1.0', '4.1', '3.00']\n",
      "['\\xa0', 'Patty Mills, PG', 'SA', '3', '19.7', '9', '3.0', '1', '0.3', '7.3', '9.00']\n"
     ]
    }
   ],
   "source": [
    "tbl_rows = tbl.find_all('tr')\n",
    "for tr in tbl_rows:\n",
    "    td = tr.find_all('td')\n",
    "    row = [i.text for i in td]\n",
    "    print(row)"
   ]
  },
  {
   "cell_type": "code",
   "execution_count": 102,
   "metadata": {},
   "outputs": [
    {
     "data": {
      "text/plain": [
       "list"
      ]
     },
     "execution_count": 102,
     "metadata": {},
     "output_type": "execute_result"
    }
   ],
   "source": [
    "type(row)"
   ]
  },
  {
   "cell_type": "code",
   "execution_count": 103,
   "metadata": {},
   "outputs": [
    {
     "name": "stdout",
     "output_type": "stream",
     "text": [
      "     0                          1     2   3     4    5     6   7     8   \\\n",
      "0    RK                     PLAYER  TEAM  GP   MPG  AST   APG  TO  TOPG   \n",
      "1     1      Russell Westbrook, PG   OKC   2  37.5   21  10.5  10   5.0   \n",
      "2     2           James Harden, PG   HOU   2  33.0   20  10.0  11   5.5   \n",
      "3     3            Nikola Jokic, C   DEN   3  36.0   29   9.7   7   2.3   \n",
      "4     4           Lou Williams, SG   LAC   3  28.3   26   8.7   9   3.0   \n",
      "5   NaN         Draymond Green, PF    GS   3  34.0   26   8.7  10   3.3   \n",
      "6     6            Ben Simmons, PG   PHI   3  33.3   24   8.0   9   3.0   \n",
      "7     7             Kyle Lowry, PG   TOR   2  35.5   15   7.5   4   2.0   \n",
      "8   NaN            Ricky Rubio, PG  UTAH   2  31.5   15   7.5   4   2.0   \n",
      "9     9           Kyrie Irving, PG   BOS   2  36.5   14   7.0   5   2.5   \n",
      "10   10         Reggie Jackson, PG   DET   2  23.5   13   6.5   2   1.0   \n",
      "11   RK                     PLAYER  TEAM  GP   MPG  AST   APG  TO  TOPG   \n",
      "12   11           Monte Morris, PG   DEN   3  23.7   18   6.0   1   0.3   \n",
      "13  NaN        Khris Middleton, SF   MIL   2  29.0   12   6.0   2   1.0   \n",
      "14   13           Eric Bledsoe, PG   MIL   2  26.5   11   5.5   1   0.5   \n",
      "15  NaN              Ish Smith, PG   DET   2  22.0   11   5.5   3   1.5   \n",
      "16   15           Kevin Durant, SF    GS   3  32.0   15   5.0  17   5.7   \n",
      "17  NaN             Chris Paul, PG   HOU   2  30.0   10   5.0  10   5.0   \n",
      "18  NaN          D.J. Augustin, PG   ORL   2  26.5   10   5.0   2   1.0   \n",
      "19  NaN         Damian Lillard, PG   POR   2  37.5   10   5.0   8   4.0   \n",
      "20   19         Andre Iguodala, SG    GS   3  24.3   14   4.7   2   0.7   \n",
      "21  NaN          Stephen Curry, PG    GS   3  30.3   14   4.7  10   3.3   \n",
      "22   RK                     PLAYER  TEAM  GP   MPG  AST   APG  TO  TOPG   \n",
      "23  NaN           Jimmy Butler, SG   PHI   3  35.3   14   4.7   3   1.0   \n",
      "24   22              Marc Gasol, C   TOR   2  27.0    9   4.5   0   0.0   \n",
      "25  NaN              Al Horford, C   BOS   2  35.0    9   4.5   6   3.0   \n",
      "26  NaN         Thaddeus Young, PF   IND   2  29.5    9   4.5   2   1.0   \n",
      "27   25          DeMar DeRozan, SG    SA   3  36.7   13   4.3   5   1.7   \n",
      "28   26       Patrick Beverley, PG   LAC   3  27.0   12   4.0   5   1.7   \n",
      "29  NaN        Darren Collison, PG   IND   2  29.0    8   4.0   6   3.0   \n",
      "30  NaN            CJ McCollum, SG   POR   2  36.5    8   4.0   6   3.0   \n",
      "31  NaN  Giannis Antetokounmpo, PF   MIL   2  26.5    8   4.0   6   3.0   \n",
      "32  NaN         Sterling Brown, SG   MIL   2  25.5    8   4.0   2   1.0   \n",
      "33   RK                     PLAYER  TEAM  GP   MPG  AST   APG  TO  TOPG   \n",
      "34  NaN           Terry Rozier, PG   BOS   2  19.5    8   4.0   3   1.5   \n",
      "35  NaN       Domantas Sabonis, PF   IND   2  25.0    8   4.0   2   1.0   \n",
      "36   33          Tobias Harris, SF   PHI   3  35.3   11   3.7   3   1.0   \n",
      "37   34            George Hill, PG   MIL   2  24.5    7   3.5   1   0.5   \n",
      "38  NaN          Kawhi Leonard, SF   TOR   2  33.0    7   3.5   5   2.5   \n",
      "39  NaN             Joe Ingles, SF  UTAH   2  32.0    7   3.5   3   1.5   \n",
      "40   37       Danilo Gallinari, SF   LAC   3  30.3   10   3.3   8   2.7   \n",
      "41  NaN          Derrick White, PG    SA   3  31.0   10   3.3   8   2.7   \n",
      "42   39       LaMarcus Aldridge, C    SA   3  35.0    9   3.0   3   1.0   \n",
      "43  NaN            Patty Mills, PG    SA   3  19.7    9   3.0   1   0.3   \n",
      "\n",
      "       9       10  \n",
      "0   AP48M  AST/TO  \n",
      "1    13.4    2.10  \n",
      "2    14.5    1.82  \n",
      "3    12.9    4.14  \n",
      "4    14.7    2.89  \n",
      "5    12.2    2.60  \n",
      "6    11.5    2.67  \n",
      "7    10.1    3.75  \n",
      "8    11.4    3.75  \n",
      "9     9.2    2.80  \n",
      "10   13.3    6.50  \n",
      "11  AP48M  AST/TO  \n",
      "12   12.2   18.00  \n",
      "13    9.9    6.00  \n",
      "14   10.0   11.00  \n",
      "15   12.0    3.67  \n",
      "16    7.5    0.88  \n",
      "17    8.0    1.00  \n",
      "18    9.1    5.00  \n",
      "19    6.4    1.25  \n",
      "20    9.2    7.00  \n",
      "21    7.4    1.40  \n",
      "22  AP48M  AST/TO  \n",
      "23    6.3    4.67  \n",
      "24    8.0    0.00  \n",
      "25    6.2    1.50  \n",
      "26    7.3    4.50  \n",
      "27    5.7    2.60  \n",
      "28    7.1    2.40  \n",
      "29    6.6    1.33  \n",
      "30    5.3    1.33  \n",
      "31    7.2    1.33  \n",
      "32    7.5    4.00  \n",
      "33  AP48M  AST/TO  \n",
      "34    9.8    2.67  \n",
      "35    7.7    4.00  \n",
      "36    5.0    3.67  \n",
      "37    6.9    7.00  \n",
      "38    5.1    1.40  \n",
      "39    5.3    2.33  \n",
      "40    5.3    1.25  \n",
      "41    5.2    1.25  \n",
      "42    4.1    3.00  \n",
      "43    7.3    9.00  \n"
     ]
    }
   ],
   "source": [
    "import pandas as pd \n",
    "data = pd.read_html(\"http://www.espn.com/nba/statistics/player/_/stat/assists/sort/avgAssists/\")\n",
    "for df in data:\n",
    "    print(df)"
   ]
  },
  {
   "cell_type": "markdown",
   "metadata": {
    "collapsed": true
   },
   "source": [
    "#### Thank You All"
   ]
  }
 ],
 "metadata": {
  "kernelspec": {
   "display_name": "Python 3",
   "language": "python",
   "name": "python3"
  },
  "language_info": {
   "codemirror_mode": {
    "name": "ipython",
    "version": 3
   },
   "file_extension": ".py",
   "mimetype": "text/x-python",
   "name": "python",
   "nbconvert_exporter": "python",
   "pygments_lexer": "ipython3",
   "version": "3.7.4"
  }
 },
 "nbformat": 4,
 "nbformat_minor": 2
}
